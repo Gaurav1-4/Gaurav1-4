{
  "nbformat": 4,
  "nbformat_minor": 0,
  "metadata": {
    "colab": {
      "provenance": []
    },
    "kernelspec": {
      "name": "python3",
      "display_name": "Python 3"
    },
    "language_info": {
      "name": "python"
    }
  },
  "cells": [
    {
      "cell_type": "markdown",
      "source": [
        "**1. What are data structures, and why are they important?**\n",
        "- Way of storing data and organizing it effeciently so that in future it can easily be accesed and manupulated.\n",
        "- For example:-\n"
      ],
      "metadata": {
        "id": "1mZ9iU68lcsj"
      }
    },
    {
      "cell_type": "code",
      "source": [
        "list = [1,2,3,4,5]\n",
        "tupple = (1,2,3,4,5)\n",
        "dict = {1:\"one\",2:\"two\",3:\"three\",4:\"four\",5:\"five\"}"
      ],
      "metadata": {
        "id": "QOE6s9Pwlcbu"
      },
      "execution_count": null,
      "outputs": []
    },
    {
      "cell_type": "markdown",
      "source": [
        "**2. Explain the difference between mutable and immutable data types with examples?**\n",
        "- Mutable data type :- The data structures which **can be** easily manuplated after creating it.\n",
        "Such as adding/removing element it,chaning the element in it\n",
        "For example List,dict\n",
        "- Inmutable data type :- The data structures which **can not be** manuplated after creating it once.\n",
        "Such as adding/removing/changing element of it\n",
        "For example string,"
      ],
      "metadata": {
        "id": "oAt73R4gmOK6"
      }
    },
    {
      "cell_type": "code",
      "execution_count": 1,
      "metadata": {
        "colab": {
          "base_uri": "https://localhost:8080/"
        },
        "id": "ke9wqW8hitfq",
        "outputId": "79a1a530-1c0d-4bd9-9e64-fef668c0394a"
      },
      "outputs": [
        {
          "output_type": "execute_result",
          "data": {
            "text/plain": [
              "[1, 2, 3, 4, 5]"
            ]
          },
          "metadata": {},
          "execution_count": 1
        }
      ],
      "source": [
        "#Mutable\n",
        "list = [1,2,3,4]\n",
        "list.append(5)\n",
        "list"
      ]
    },
    {
      "cell_type": "code",
      "source": [
        "#Inmutable\n",
        "string = \"Hello\"\n",
        "string.append(\"World!\")\n",
        "string"
      ],
      "metadata": {
        "colab": {
          "base_uri": "https://localhost:8080/",
          "height": 198
        },
        "id": "8CDuyhNxpBeJ",
        "outputId": "c5593d7f-05d9-4fd5-efe9-2c07cfe9cf55"
      },
      "execution_count": 3,
      "outputs": [
        {
          "output_type": "error",
          "ename": "AttributeError",
          "evalue": "'str' object has no attribute 'append'",
          "traceback": [
            "\u001b[0;31m---------------------------------------------------------------------------\u001b[0m",
            "\u001b[0;31mAttributeError\u001b[0m                            Traceback (most recent call last)",
            "\u001b[0;32m<ipython-input-3-656a705b2818>\u001b[0m in \u001b[0;36m<cell line: 0>\u001b[0;34m()\u001b[0m\n\u001b[1;32m      1\u001b[0m \u001b[0;31m#Inmutable\u001b[0m\u001b[0;34m\u001b[0m\u001b[0;34m\u001b[0m\u001b[0m\n\u001b[1;32m      2\u001b[0m \u001b[0mstring\u001b[0m \u001b[0;34m=\u001b[0m \u001b[0;34m\"Hello\"\u001b[0m\u001b[0;34m\u001b[0m\u001b[0;34m\u001b[0m\u001b[0m\n\u001b[0;32m----> 3\u001b[0;31m \u001b[0mstring\u001b[0m\u001b[0;34m.\u001b[0m\u001b[0mappend\u001b[0m\u001b[0;34m(\u001b[0m\u001b[0;34m\"World!\"\u001b[0m\u001b[0;34m)\u001b[0m\u001b[0;34m\u001b[0m\u001b[0;34m\u001b[0m\u001b[0m\n\u001b[0m\u001b[1;32m      4\u001b[0m \u001b[0mstring\u001b[0m\u001b[0;34m\u001b[0m\u001b[0;34m\u001b[0m\u001b[0m\n",
            "\u001b[0;31mAttributeError\u001b[0m: 'str' object has no attribute 'append'"
          ]
        }
      ]
    },
    {
      "cell_type": "markdown",
      "source": [
        "**3. What are the main differences between lists and tuples in Python?**\n",
        "- List uses square brackets,[]\n",
        "- List is mutable(we can edit the list like adding/removing)\n",
        "- Tuple uses parenthesis,()\n",
        "- Tuple is inmutable(we can not edit the tuple like append/remove"
      ],
      "metadata": {
        "id": "PKjSGKBCpW4H"
      }
    },
    {
      "cell_type": "code",
      "source": [
        "#List\n",
        "list = [1,2,3,4,5]\n",
        "list.remove(5)\n",
        "list"
      ],
      "metadata": {
        "colab": {
          "base_uri": "https://localhost:8080/"
        },
        "id": "tretV-ZprhAW",
        "outputId": "45f56a19-52a3-423d-f46f-399a0d7cd8cf"
      },
      "execution_count": 4,
      "outputs": [
        {
          "output_type": "execute_result",
          "data": {
            "text/plain": [
              "[1, 2, 3, 4]"
            ]
          },
          "metadata": {},
          "execution_count": 4
        }
      ]
    },
    {
      "cell_type": "code",
      "source": [
        "#Tuple\n",
        "tuple = (1,2,3,4,5)\n",
        "tuple.remove(5)\n",
        "tuple"
      ],
      "metadata": {
        "colab": {
          "base_uri": "https://localhost:8080/",
          "height": 198
        },
        "id": "NCmDOHjRr0R3",
        "outputId": "25d7f803-ff3d-43c1-9e44-f1f29b050aed"
      },
      "execution_count": 5,
      "outputs": [
        {
          "output_type": "error",
          "ename": "AttributeError",
          "evalue": "'tuple' object has no attribute 'remove'",
          "traceback": [
            "\u001b[0;31m---------------------------------------------------------------------------\u001b[0m",
            "\u001b[0;31mAttributeError\u001b[0m                            Traceback (most recent call last)",
            "\u001b[0;32m<ipython-input-5-d932a46cf725>\u001b[0m in \u001b[0;36m<cell line: 0>\u001b[0;34m()\u001b[0m\n\u001b[1;32m      1\u001b[0m \u001b[0;31m#Tuple\u001b[0m\u001b[0;34m\u001b[0m\u001b[0;34m\u001b[0m\u001b[0m\n\u001b[1;32m      2\u001b[0m \u001b[0mtuple\u001b[0m \u001b[0;34m=\u001b[0m \u001b[0;34m(\u001b[0m\u001b[0;36m1\u001b[0m\u001b[0;34m,\u001b[0m\u001b[0;36m2\u001b[0m\u001b[0;34m,\u001b[0m\u001b[0;36m3\u001b[0m\u001b[0;34m,\u001b[0m\u001b[0;36m4\u001b[0m\u001b[0;34m,\u001b[0m\u001b[0;36m5\u001b[0m\u001b[0;34m)\u001b[0m\u001b[0;34m\u001b[0m\u001b[0;34m\u001b[0m\u001b[0m\n\u001b[0;32m----> 3\u001b[0;31m \u001b[0mtuple\u001b[0m\u001b[0;34m.\u001b[0m\u001b[0mremove\u001b[0m\u001b[0;34m(\u001b[0m\u001b[0;36m5\u001b[0m\u001b[0;34m)\u001b[0m\u001b[0;34m\u001b[0m\u001b[0;34m\u001b[0m\u001b[0m\n\u001b[0m\u001b[1;32m      4\u001b[0m \u001b[0mtuple\u001b[0m\u001b[0;34m\u001b[0m\u001b[0;34m\u001b[0m\u001b[0m\n",
            "\u001b[0;31mAttributeError\u001b[0m: 'tuple' object has no attribute 'remove'"
          ]
        }
      ]
    },
    {
      "cell_type": "markdown",
      "source": [
        "**4. Describe how dictionaries store data?**\n",
        "- Dictionaries store data in key:value format.\n",
        "- Dictionaries uses curly braces.\n",
        "- Dictionaries are mutable.\n",
        "- We can find all the keys using dict.keys()\n",
        "- Similarly we can find all the values usinf dict.values()"
      ],
      "metadata": {
        "id": "9tp2Ua01r8-D"
      }
    },
    {
      "cell_type": "code",
      "source": [
        "dict = {\"GAURAV\": 100, \"MOHIT\": 95}"
      ],
      "metadata": {
        "id": "wUOtFFKmsdmh"
      },
      "execution_count": 6,
      "outputs": []
    },
    {
      "cell_type": "code",
      "source": [
        "dict.keys()"
      ],
      "metadata": {
        "colab": {
          "base_uri": "https://localhost:8080/"
        },
        "id": "QXend8Sbr8VW",
        "outputId": "921eff24-31d9-4d21-df3f-5535c60f93f6"
      },
      "execution_count": 8,
      "outputs": [
        {
          "output_type": "execute_result",
          "data": {
            "text/plain": [
              "dict_keys(['GAURAV', 'MOHIT'])"
            ]
          },
          "metadata": {},
          "execution_count": 8
        }
      ]
    },
    {
      "cell_type": "code",
      "source": [
        "dict.values()"
      ],
      "metadata": {
        "colab": {
          "base_uri": "https://localhost:8080/"
        },
        "id": "LCGRw9H9tN1I",
        "outputId": "ca877550-7ff6-4c54-f819-c65aa0c54149"
      },
      "execution_count": 9,
      "outputs": [
        {
          "output_type": "execute_result",
          "data": {
            "text/plain": [
              "dict_values([100, 95])"
            ]
          },
          "metadata": {},
          "execution_count": 9
        }
      ]
    },
    {
      "cell_type": "markdown",
      "source": [
        "**5. Why might you use a set instead of a list in Python?**\n",
        "- Sets have much differences over list such as:-\n",
        "1. If we add the same element multiple times then it will reflect only once in the output\n",
        "2. There is no indexing in set   \n",
        "3. The order of the elements is random\n",
        "4. The values in set can not be changed\n",
        "\n"
      ],
      "metadata": {
        "id": "PuV8IeS1tlNH"
      }
    },
    {
      "cell_type": "code",
      "source": [
        "set = {1,1,\"Apple\",\"Banana\",\"Apple\",4,2,6}\n",
        "set"
      ],
      "metadata": {
        "colab": {
          "base_uri": "https://localhost:8080/"
        },
        "id": "CNqeXNLYtj4Q",
        "outputId": "306cfc4a-131b-419b-ad27-2def3f3cdcf4"
      },
      "execution_count": 36,
      "outputs": [
        {
          "output_type": "execute_result",
          "data": {
            "text/plain": [
              "{1, 2, 4, 6, 'Apple', 'Banana'}"
            ]
          },
          "metadata": {},
          "execution_count": 36
        }
      ]
    },
    {
      "cell_type": "code",
      "source": [
        "set.pop()"
      ],
      "metadata": {
        "colab": {
          "base_uri": "https://localhost:8080/"
        },
        "id": "l-EM8tsZnNnM",
        "outputId": "afc786ee-e0f4-4494-906d-b96e0142a244"
      },
      "execution_count": 38,
      "outputs": [
        {
          "output_type": "execute_result",
          "data": {
            "text/plain": [
              "2"
            ]
          },
          "metadata": {},
          "execution_count": 38
        }
      ]
    },
    {
      "cell_type": "code",
      "source": [
        "set[0] = 4\n"
      ],
      "metadata": {
        "colab": {
          "base_uri": "https://localhost:8080/",
          "height": 144
        },
        "id": "iK8jr5nznTB0",
        "outputId": "d2e753cf-fd1b-4543-f71f-a79231131951"
      },
      "execution_count": 39,
      "outputs": [
        {
          "output_type": "error",
          "ename": "TypeError",
          "evalue": "'set' object does not support item assignment",
          "traceback": [
            "\u001b[0;31m---------------------------------------------------------------------------\u001b[0m",
            "\u001b[0;31mTypeError\u001b[0m                                 Traceback (most recent call last)",
            "\u001b[0;32m<ipython-input-39-0d5093f15163>\u001b[0m in \u001b[0;36m<cell line: 0>\u001b[0;34m()\u001b[0m\n\u001b[0;32m----> 1\u001b[0;31m \u001b[0mset\u001b[0m\u001b[0;34m[\u001b[0m\u001b[0;36m0\u001b[0m\u001b[0;34m]\u001b[0m \u001b[0;34m=\u001b[0m \u001b[0;36m4\u001b[0m\u001b[0;34m\u001b[0m\u001b[0;34m\u001b[0m\u001b[0m\n\u001b[0m",
            "\u001b[0;31mTypeError\u001b[0m: 'set' object does not support item assignment"
          ]
        }
      ]
    },
    {
      "cell_type": "markdown",
      "source": [
        "**6. What is a string in Python, and how is it different from a list?**\n",
        "- String in python is a type of data structures used to store the data in it\n",
        "- String is inmutable means once a string is created we can't manupulate it.\n",
        "- string uses double quotation marks, (\")\n",
        "- List is the ordered collection of data\n",
        "- List uses square brackets[]\n",
        "- List is mutable means it can be manupulated after creating as needed\n",
        "- FOR EXAMPLE:-"
      ],
      "metadata": {
        "id": "RP_zQY1wq4QT"
      }
    },
    {
      "cell_type": "code",
      "source": [
        "string = \"PWSKILLS\"\n",
        "print(type(string))"
      ],
      "metadata": {
        "colab": {
          "base_uri": "https://localhost:8080/"
        },
        "id": "uHhXB2UGvrpO",
        "outputId": "7f927501-3dd7-40b2-da4e-ddfda9b8484b"
      },
      "execution_count": 44,
      "outputs": [
        {
          "output_type": "stream",
          "name": "stdout",
          "text": [
            "<class 'str'>\n"
          ]
        }
      ]
    },
    {
      "cell_type": "code",
      "source": [
        "string[0] = \"p\""
      ],
      "metadata": {
        "colab": {
          "base_uri": "https://localhost:8080/",
          "height": 144
        },
        "id": "nQGYvpsgv16I",
        "outputId": "119e5d26-5b39-48fa-81bf-afe6310bb796"
      },
      "execution_count": 47,
      "outputs": [
        {
          "output_type": "error",
          "ename": "TypeError",
          "evalue": "'str' object does not support item assignment",
          "traceback": [
            "\u001b[0;31m---------------------------------------------------------------------------\u001b[0m",
            "\u001b[0;31mTypeError\u001b[0m                                 Traceback (most recent call last)",
            "\u001b[0;32m<ipython-input-47-64f74dee97a8>\u001b[0m in \u001b[0;36m<cell line: 0>\u001b[0;34m()\u001b[0m\n\u001b[0;32m----> 1\u001b[0;31m \u001b[0mstring\u001b[0m\u001b[0;34m[\u001b[0m\u001b[0;36m0\u001b[0m\u001b[0;34m]\u001b[0m \u001b[0;34m=\u001b[0m \u001b[0;34m\"p\"\u001b[0m\u001b[0;34m\u001b[0m\u001b[0;34m\u001b[0m\u001b[0m\n\u001b[0m",
            "\u001b[0;31mTypeError\u001b[0m: 'str' object does not support item assignment"
          ]
        }
      ]
    },
    {
      "cell_type": "code",
      "source": [
        "list = [\"pwskills\",\"Apple\",\"Gaurav\"]\n",
        "print(type(list))"
      ],
      "metadata": {
        "colab": {
          "base_uri": "https://localhost:8080/"
        },
        "id": "6zv11mkqv_fn",
        "outputId": "b91b4470-2b0b-4bbe-e8a4-b99ae44f1d24"
      },
      "execution_count": 48,
      "outputs": [
        {
          "output_type": "stream",
          "name": "stdout",
          "text": [
            "<class 'list'>\n"
          ]
        }
      ]
    },
    {
      "cell_type": "code",
      "source": [
        "list[0] = \"PWSKILLS\"\n",
        "list"
      ],
      "metadata": {
        "colab": {
          "base_uri": "https://localhost:8080/"
        },
        "id": "oRRjZCsMwMEG",
        "outputId": "c3ce5368-91c3-4681-d4e4-1d97b6e6af6b"
      },
      "execution_count": 50,
      "outputs": [
        {
          "output_type": "execute_result",
          "data": {
            "text/plain": [
              "['PWSKILLS', 'Apple', 'Gaurav']"
            ]
          },
          "metadata": {},
          "execution_count": 50
        }
      ]
    },
    {
      "cell_type": "markdown",
      "source": [
        "**7. How do tuples ensure data integrity in Python?**\n",
        "- Tuple is a type of data structure, which uses parentheses to store data. It ensures data integrity as tuples are inmutable means once created can't be manupulated after that, which maintains its integrity, this ensures that the tuple remains constant through out the code.\n",
        "- Example:-\n"
      ],
      "metadata": {
        "id": "0zulTmJhwbRh"
      }
    },
    {
      "cell_type": "code",
      "source": [
        "tuple = (1,2,3,4)\n",
        "tuple.append(5)"
      ],
      "metadata": {
        "colab": {
          "base_uri": "https://localhost:8080/",
          "height": 180
        },
        "id": "hOwJib29yG35",
        "outputId": "f61ec1ad-d497-4223-94ac-e989bc1fbe7c"
      },
      "execution_count": 52,
      "outputs": [
        {
          "output_type": "error",
          "ename": "AttributeError",
          "evalue": "'tuple' object has no attribute 'append'",
          "traceback": [
            "\u001b[0;31m---------------------------------------------------------------------------\u001b[0m",
            "\u001b[0;31mAttributeError\u001b[0m                            Traceback (most recent call last)",
            "\u001b[0;32m<ipython-input-52-ab37704b436e>\u001b[0m in \u001b[0;36m<cell line: 0>\u001b[0;34m()\u001b[0m\n\u001b[1;32m      1\u001b[0m \u001b[0mtuple\u001b[0m \u001b[0;34m=\u001b[0m \u001b[0;34m(\u001b[0m\u001b[0;36m1\u001b[0m\u001b[0;34m,\u001b[0m\u001b[0;36m2\u001b[0m\u001b[0;34m,\u001b[0m\u001b[0;36m3\u001b[0m\u001b[0;34m,\u001b[0m\u001b[0;36m4\u001b[0m\u001b[0;34m)\u001b[0m\u001b[0;34m\u001b[0m\u001b[0;34m\u001b[0m\u001b[0m\n\u001b[0;32m----> 2\u001b[0;31m \u001b[0mtuple\u001b[0m\u001b[0;34m.\u001b[0m\u001b[0mappend\u001b[0m\u001b[0;34m(\u001b[0m\u001b[0;36m5\u001b[0m\u001b[0;34m)\u001b[0m\u001b[0;34m\u001b[0m\u001b[0;34m\u001b[0m\u001b[0m\n\u001b[0m\u001b[1;32m      3\u001b[0m \u001b[0mtuple\u001b[0m\u001b[0;34m[\u001b[0m\u001b[0;36m0\u001b[0m\u001b[0;34m]\u001b[0m \u001b[0;34m=\u001b[0m \u001b[0;36m4\u001b[0m\u001b[0;34m\u001b[0m\u001b[0;34m\u001b[0m\u001b[0m\n",
            "\u001b[0;31mAttributeError\u001b[0m: 'tuple' object has no attribute 'append'"
          ]
        }
      ]
    },
    {
      "cell_type": "markdown",
      "source": [
        "**8. What is a hash table, and how does it relate to dictionaries in Python?**\n",
        "- Hash table are the data structures.\n",
        "- It stores data in array format.\n",
        "- The keys of dictionaries are generated into hash tales using hash function."
      ],
      "metadata": {
        "id": "uiz7NCHVybrn"
      }
    },
    {
      "cell_type": "markdown",
      "source": [
        "**9. Can lists contain different data types in Python?**\n",
        "- Yes, List can store differnt types of data such as num,strings,boolean,tuples and list etc\n",
        "- For example:-"
      ],
      "metadata": {
        "id": "VzZ7auRE1INy"
      }
    },
    {
      "cell_type": "code",
      "source": [
        "list = [1,\"PWSKILLS\",True,[1,2,3],(1,2,3)]"
      ],
      "metadata": {
        "id": "se0DRrwl1n0I"
      },
      "execution_count": 57,
      "outputs": []
    },
    {
      "cell_type": "markdown",
      "source": [
        "**10. Explain why strings are immutable in Python?**\n",
        "- Strings are inmutable which ensures data integrity as the output of the string remains constant.\n",
        "- It also take a designated space where as in case of mutable obejcts interpreter has to give some extra space for adjustments.\n",
        "- It also provides security to the coder, for example string can contain so kinds of passwords which should not be changed after creating them.\n",
        "- Inmutable codes are easy to use and chances of typing mistake gets less as they can't be modified after creating it."
      ],
      "metadata": {
        "id": "vhEL3uJyfh6I"
      }
    },
    {
      "cell_type": "markdown",
      "source": [
        "**11. What advantages do dictionaries offer over lists for certain tasks?**\n",
        "- Dictionaries store data in key:value format which can be very useful for example creating a menu of a restaurants or may be creating a phonebook of contacts.\n",
        "- Finding any element is very easy in Dictionaries, for example to find the keys we can use dict.keys().\n",
        "- Mainly dictionaries are used to store huge amount of data, So that it can be accessed quickly.\n",
        "- Accessing dictionaries is very fast and reading it is very simple whereas list is good for storing simple data in ordered form.\n",
        "- For example\n"
      ],
      "metadata": {
        "id": "kijKGaxshwCw"
      }
    },
    {
      "cell_type": "code",
      "source": [
        "dict = {\"GAURAV\": 929792499, \"MOHIT\": 959302042 , \"AJAY\": 9482244892}\n",
        "dict[\"MOHIT\"]"
      ],
      "metadata": {
        "colab": {
          "base_uri": "https://localhost:8080/"
        },
        "id": "D9Daz-fKfhsI",
        "outputId": "c4b7eeaf-06dd-412f-891a-267615870913"
      },
      "execution_count": 5,
      "outputs": [
        {
          "output_type": "execute_result",
          "data": {
            "text/plain": [
              "959302042"
            ]
          },
          "metadata": {},
          "execution_count": 5
        }
      ]
    },
    {
      "cell_type": "code",
      "source": [
        "dict.keys()"
      ],
      "metadata": {
        "colab": {
          "base_uri": "https://localhost:8080/"
        },
        "id": "L9dDLz6yj5Er",
        "outputId": "7a5d53ac-6b9d-40f5-ce35-b96cb4ae59e5"
      },
      "execution_count": 6,
      "outputs": [
        {
          "output_type": "execute_result",
          "data": {
            "text/plain": [
              "dict_keys(['GAURAV', 'MOHIT', 'AJAY'])"
            ]
          },
          "metadata": {},
          "execution_count": 6
        }
      ]
    },
    {
      "cell_type": "markdown",
      "source": [
        "**12. Describe a scenario where using a tuple would be preferable over a list.**\n",
        "- List is prefered when all the items are ordered and further items can be added/removed/changed\n",
        "- Tuples is prefered when the items are added with an specific order and no more changes are there to make\n",
        "- **For example**:-\n",
        "In a bank customer came to deposit various money checks and all the recipts are made as shown,\n",
        "to maintain integrity the amount should not be changed here if we use list it can be modified hence its not the safest data structure, So tuple is used as it can't be modified now."
      ],
      "metadata": {
        "id": "DhtmibZqkKmd"
      }
    },
    {
      "cell_type": "code",
      "source": [
        "Bank_statement = (45000,50000,95000)\n",
        "type(Bank_statement)"
      ],
      "metadata": {
        "colab": {
          "base_uri": "https://localhost:8080/"
        },
        "id": "hy8XsNCHOW_p",
        "outputId": "6eb023d9-74cc-476b-e213-b1554215d1c4"
      },
      "execution_count": 5,
      "outputs": [
        {
          "output_type": "execute_result",
          "data": {
            "text/plain": [
              "tuple"
            ]
          },
          "metadata": {},
          "execution_count": 5
        }
      ]
    },
    {
      "cell_type": "code",
      "source": [
        "#If someone tries to change this slip he can't as tuples are inmutable\n",
        "Bank_statement[0] = 80000"
      ],
      "metadata": {
        "colab": {
          "base_uri": "https://localhost:8080/",
          "height": 162
        },
        "id": "f3lwjqKQOtHQ",
        "outputId": "cd0b09c7-34e0-4191-cb2b-b51fe6266a67"
      },
      "execution_count": 8,
      "outputs": [
        {
          "output_type": "error",
          "ename": "NameError",
          "evalue": "name 'Bank_statement' is not defined",
          "traceback": [
            "\u001b[0;31m---------------------------------------------------------------------------\u001b[0m",
            "\u001b[0;31mNameError\u001b[0m                                 Traceback (most recent call last)",
            "\u001b[0;32m<ipython-input-8-139dfebeb90d>\u001b[0m in \u001b[0;36m<cell line: 0>\u001b[0;34m()\u001b[0m\n\u001b[1;32m      1\u001b[0m \u001b[0;31m#If someone tries to change this slip he can't as tuples are inmutable\u001b[0m\u001b[0;34m\u001b[0m\u001b[0;34m\u001b[0m\u001b[0m\n\u001b[0;32m----> 2\u001b[0;31m \u001b[0mBank_statement\u001b[0m\u001b[0;34m[\u001b[0m\u001b[0;36m0\u001b[0m\u001b[0;34m]\u001b[0m \u001b[0;34m=\u001b[0m \u001b[0;36m80000\u001b[0m\u001b[0;34m\u001b[0m\u001b[0;34m\u001b[0m\u001b[0m\n\u001b[0m",
            "\u001b[0;31mNameError\u001b[0m: name 'Bank_statement' is not defined"
          ]
        }
      ]
    },
    {
      "cell_type": "markdown",
      "source": [
        "**13. How do sets handle duplicate values in Python?**\n",
        "- If there is a duplicacy in set it will ignore the another one and will print it once only"
      ],
      "metadata": {
        "id": "aezOBOVoQdBD"
      }
    },
    {
      "cell_type": "code",
      "source": [
        "set = {\"apple\",\"banana\",\"apple\",\"potato\"}\n",
        "print(set)"
      ],
      "metadata": {
        "colab": {
          "base_uri": "https://localhost:8080/"
        },
        "id": "M2SB5UfGRKqe",
        "outputId": "9f104429-cd98-492f-ad6f-990b1a1808b7"
      },
      "execution_count": 10,
      "outputs": [
        {
          "output_type": "stream",
          "name": "stdout",
          "text": [
            "{'apple', 'banana', 'potato'}\n"
          ]
        }
      ]
    },
    {
      "cell_type": "markdown",
      "source": [
        "**14. How does the “in” keyword work differently for lists and dictionaries?**\n",
        " - In is a membership operator\n",
        " - In keyword in LIST is used check the values\n",
        " - In keyword in DICTIONARIES is used to check for the keys\n",
        " - For example:-"
      ],
      "metadata": {
        "id": "wsAKc5cIRnuk"
      }
    },
    {
      "cell_type": "code",
      "source": [
        "list = [1,2,3,4,5,6]\n",
        "3 in list"
      ],
      "metadata": {
        "colab": {
          "base_uri": "https://localhost:8080/"
        },
        "id": "E93FZj40VIP5",
        "outputId": "c3bb0ac7-f200-42ae-db03-4d402bfdb78d"
      },
      "execution_count": 11,
      "outputs": [
        {
          "output_type": "execute_result",
          "data": {
            "text/plain": [
              "True"
            ]
          },
          "metadata": {},
          "execution_count": 11
        }
      ]
    },
    {
      "cell_type": "code",
      "source": [
        "dict = {1:\"one\",2:\"two\",3:\"three\",4:\"four\",5:\"five\"}\n",
        "3 in dict"
      ],
      "metadata": {
        "colab": {
          "base_uri": "https://localhost:8080/"
        },
        "id": "iNTw7tZ-VTJF",
        "outputId": "b6291ce2-d329-43e9-e6b4-519e4ae6d515"
      },
      "execution_count": 12,
      "outputs": [
        {
          "output_type": "execute_result",
          "data": {
            "text/plain": [
              "True"
            ]
          },
          "metadata": {},
          "execution_count": 12
        }
      ]
    },
    {
      "cell_type": "markdown",
      "source": [
        "**15. Can you modify the elements of a tuple? Explain why or why not?**\n",
        "- No, elements in tuple can't be modified, as tuples are inmutable but there is a way to modify it first convert the tuple into list then modify then again convert back into tuple"
      ],
      "metadata": {
        "id": "GdW0AnEYVoMv"
      }
    },
    {
      "cell_type": "code",
      "source": [
        "tupley = (1,2,3,4)\n",
        "print(type(tupley))\n",
        "tupley.append(5)\n"
      ],
      "metadata": {
        "colab": {
          "base_uri": "https://localhost:8080/",
          "height": 198
        },
        "id": "LL-bahrNWth6",
        "outputId": "945c516f-996f-44ac-c8ac-fe58249fb79a"
      },
      "execution_count": 26,
      "outputs": [
        {
          "output_type": "stream",
          "name": "stdout",
          "text": [
            "<class 'tuple'>\n"
          ]
        },
        {
          "output_type": "error",
          "ename": "AttributeError",
          "evalue": "'tuple' object has no attribute 'append'",
          "traceback": [
            "\u001b[0;31m---------------------------------------------------------------------------\u001b[0m",
            "\u001b[0;31mAttributeError\u001b[0m                            Traceback (most recent call last)",
            "\u001b[0;32m<ipython-input-26-2e560426f47c>\u001b[0m in \u001b[0;36m<cell line: 0>\u001b[0;34m()\u001b[0m\n\u001b[1;32m      1\u001b[0m \u001b[0mtupley\u001b[0m \u001b[0;34m=\u001b[0m \u001b[0;34m(\u001b[0m\u001b[0;36m1\u001b[0m\u001b[0;34m,\u001b[0m\u001b[0;36m2\u001b[0m\u001b[0;34m,\u001b[0m\u001b[0;36m3\u001b[0m\u001b[0;34m,\u001b[0m\u001b[0;36m4\u001b[0m\u001b[0;34m)\u001b[0m\u001b[0;34m\u001b[0m\u001b[0;34m\u001b[0m\u001b[0m\n\u001b[1;32m      2\u001b[0m \u001b[0mprint\u001b[0m\u001b[0;34m(\u001b[0m\u001b[0mtype\u001b[0m\u001b[0;34m(\u001b[0m\u001b[0mtupley\u001b[0m\u001b[0;34m)\u001b[0m\u001b[0;34m)\u001b[0m\u001b[0;34m\u001b[0m\u001b[0;34m\u001b[0m\u001b[0m\n\u001b[0;32m----> 3\u001b[0;31m \u001b[0mtupley\u001b[0m\u001b[0;34m.\u001b[0m\u001b[0mappend\u001b[0m\u001b[0;34m(\u001b[0m\u001b[0;36m5\u001b[0m\u001b[0;34m)\u001b[0m\u001b[0;34m\u001b[0m\u001b[0;34m\u001b[0m\u001b[0m\n\u001b[0m",
            "\u001b[0;31mAttributeError\u001b[0m: 'tuple' object has no attribute 'append'"
          ]
        }
      ]
    },
    {
      "cell_type": "code",
      "source": [
        "x = list(tupley)\n",
        "x.append(5)\n",
        "print(x)"
      ],
      "metadata": {
        "colab": {
          "base_uri": "https://localhost:8080/"
        },
        "id": "sqAt8T1hXCis",
        "outputId": "4f119359-e4aa-4e27-82b0-e48c0eb7854a"
      },
      "execution_count": 31,
      "outputs": [
        {
          "output_type": "stream",
          "name": "stdout",
          "text": [
            "[1, 2, 3, 4, 5]\n"
          ]
        }
      ]
    },
    {
      "cell_type": "code",
      "source": [
        "tuplez = tuple(x)\n",
        "tuplez"
      ],
      "metadata": {
        "colab": {
          "base_uri": "https://localhost:8080/"
        },
        "id": "FMk2wshmYUvL",
        "outputId": "f3174e21-5fa9-40b9-d72e-6e894a3b2b97"
      },
      "execution_count": 36,
      "outputs": [
        {
          "output_type": "execute_result",
          "data": {
            "text/plain": [
              "(1, 2, 3, 4, 5)"
            ]
          },
          "metadata": {},
          "execution_count": 36
        }
      ]
    },
    {
      "cell_type": "markdown",
      "source": [
        "**16. What is a nested dictionary, and give an example of its use case?**\n",
        "- In nested dictionary values are itself a dictionary\n",
        "- For example"
      ],
      "metadata": {
        "id": "wS6K_LTQZTt6"
      }
    },
    {
      "cell_type": "code",
      "source": [
        "dict = {\"Address\": {\"state\": \"Haryana\",\"city\": \"Rohtak\"}}"
      ],
      "metadata": {
        "id": "hKGmSy-pZsEU"
      },
      "execution_count": 40,
      "outputs": []
    },
    {
      "cell_type": "code",
      "source": [
        "dict[\"Address\"][\"city\"]"
      ],
      "metadata": {
        "colab": {
          "base_uri": "https://localhost:8080/",
          "height": 35
        },
        "id": "XH-DHzaQaYNo",
        "outputId": "254a9bf0-607b-4532-986a-93093e46210a"
      },
      "execution_count": 46,
      "outputs": [
        {
          "output_type": "execute_result",
          "data": {
            "text/plain": [
              "'Rohtak'"
            ],
            "application/vnd.google.colaboratory.intrinsic+json": {
              "type": "string"
            }
          },
          "metadata": {},
          "execution_count": 46
        }
      ]
    },
    {
      "cell_type": "markdown",
      "source": [
        "**17. Describe the time complexity of accessing elements in a dictionary?**\n",
        "- On an average the time complexity of accessing element in dict is O(1), it does less effect if size of dict is too much."
      ],
      "metadata": {
        "id": "Dek5rNw_abqR"
      }
    },
    {
      "cell_type": "markdown",
      "source": [
        "**18. In what situations are lists preferred over dictionaries?**\n",
        "- List is preferable where the data is stored in ordered way and frequently adding/removing/changing is used as these are easy to do in list"
      ],
      "metadata": {
        "id": "9tSdqo91bXO8"
      }
    },
    {
      "cell_type": "code",
      "source": [
        "list = [1,2,3,4]\n",
        "list.append(5)\n",
        "list\n",
        "#See how quick and easy it is."
      ],
      "metadata": {
        "colab": {
          "base_uri": "https://localhost:8080/"
        },
        "id": "OMheyc2fceyc",
        "outputId": "7431e29c-e19b-4ba0-c14b-362093caa639"
      },
      "execution_count": 48,
      "outputs": [
        {
          "output_type": "execute_result",
          "data": {
            "text/plain": [
              "[1, 2, 3, 4, 5]"
            ]
          },
          "metadata": {},
          "execution_count": 48
        }
      ]
    },
    {
      "cell_type": "markdown",
      "source": [
        "**19. Why are dictionaries considered unordered, and how does that affect data retrieval?**\n",
        "- As dictionaries do not maintain the order at which items are added to it\n",
        "- We can't retrieve data in the exact order we entered\n",
        "- There is no concept of indexing in dictionaries"
      ],
      "metadata": {
        "id": "XwfmvCV-cwWm"
      }
    },
    {
      "cell_type": "code",
      "source": [
        "dict = {\"GAURAV\": 929792499, \"MOHIT\": 959302042 , \"AJAY\": 9482244892}\n",
        "dict[0]"
      ],
      "metadata": {
        "colab": {
          "base_uri": "https://localhost:8080/",
          "height": 162
        },
        "id": "8NCKc_7_eFD8",
        "outputId": "1c0e04a5-9b98-49ab-941a-9d686946e929"
      },
      "execution_count": 49,
      "outputs": [
        {
          "output_type": "error",
          "ename": "KeyError",
          "evalue": "0",
          "traceback": [
            "\u001b[0;31m---------------------------------------------------------------------------\u001b[0m",
            "\u001b[0;31mKeyError\u001b[0m                                  Traceback (most recent call last)",
            "\u001b[0;32m<ipython-input-49-0ea580359fb5>\u001b[0m in \u001b[0;36m<cell line: 0>\u001b[0;34m()\u001b[0m\n\u001b[1;32m      1\u001b[0m \u001b[0mdict\u001b[0m \u001b[0;34m=\u001b[0m \u001b[0;34m{\u001b[0m\u001b[0;34m\"GAURAV\"\u001b[0m\u001b[0;34m:\u001b[0m \u001b[0;36m929792499\u001b[0m\u001b[0;34m,\u001b[0m \u001b[0;34m\"MOHIT\"\u001b[0m\u001b[0;34m:\u001b[0m \u001b[0;36m959302042\u001b[0m \u001b[0;34m,\u001b[0m \u001b[0;34m\"AJAY\"\u001b[0m\u001b[0;34m:\u001b[0m \u001b[0;36m9482244892\u001b[0m\u001b[0;34m}\u001b[0m\u001b[0;34m\u001b[0m\u001b[0;34m\u001b[0m\u001b[0m\n\u001b[0;32m----> 2\u001b[0;31m \u001b[0mdict\u001b[0m\u001b[0;34m[\u001b[0m\u001b[0;36m0\u001b[0m\u001b[0;34m]\u001b[0m\u001b[0;34m\u001b[0m\u001b[0;34m\u001b[0m\u001b[0m\n\u001b[0m",
            "\u001b[0;31mKeyError\u001b[0m: 0"
          ]
        }
      ]
    },
    {
      "cell_type": "markdown",
      "source": [
        "**20. Explain the difference between a list and a dictionary in terms of data retrieval.**\n",
        "- Data retrieval in list is as per the index no.\n",
        "- Data retrieval in dictionaries is as per accessing through keys"
      ],
      "metadata": {
        "id": "S603XmNXdp7p"
      }
    },
    {
      "cell_type": "code",
      "source": [
        "list = [1,2,3,4]\n",
        "print(list[0],list[1])"
      ],
      "metadata": {
        "colab": {
          "base_uri": "https://localhost:8080/"
        },
        "id": "s0DhB52WeQpW",
        "outputId": "56839830-3eb8-4eda-c93f-9282d4290fa9"
      },
      "execution_count": 54,
      "outputs": [
        {
          "output_type": "stream",
          "name": "stdout",
          "text": [
            "1 2\n"
          ]
        }
      ]
    },
    {
      "cell_type": "code",
      "source": [
        "dict = {1:\"one\",2:\"two\",3:\"three\",4:\"four\",5:\"five\"}\n",
        "print(dict[1],dict[2])"
      ],
      "metadata": {
        "colab": {
          "base_uri": "https://localhost:8080/"
        },
        "id": "iHEDdjfNefcs",
        "outputId": "904e9381-49ce-461d-edd0-691d49d8c607"
      },
      "execution_count": 57,
      "outputs": [
        {
          "output_type": "stream",
          "name": "stdout",
          "text": [
            "one two\n"
          ]
        }
      ]
    },
    {
      "cell_type": "markdown",
      "source": [
        "**1. Write a code to create a string with your name and print it**\n"
      ],
      "metadata": {
        "id": "kT5oiAZ7emH_"
      }
    },
    {
      "cell_type": "code",
      "source": [
        "name = \"GAURAV\"\n",
        "print(\"My name is \" + name)"
      ],
      "metadata": {
        "colab": {
          "base_uri": "https://localhost:8080/"
        },
        "id": "mKK-K5MBerHu",
        "outputId": "2c1ab852-16b4-48ca-bc6b-aae8613d70a4"
      },
      "execution_count": 61,
      "outputs": [
        {
          "output_type": "stream",
          "name": "stdout",
          "text": [
            "My name is GAURAV\n"
          ]
        }
      ]
    },
    {
      "cell_type": "markdown",
      "source": [
        "**2. Write a code to find the length of the string \"Hello World\".**"
      ],
      "metadata": {
        "id": "X5G91iSFe6yQ"
      }
    },
    {
      "cell_type": "code",
      "source": [
        "x = \"Hello World\"\n",
        "print(len(x))"
      ],
      "metadata": {
        "colab": {
          "base_uri": "https://localhost:8080/"
        },
        "id": "OA_-bP2Ae6lg",
        "outputId": "a2f42f4b-be1e-49c9-d032-34689c7a919e"
      },
      "execution_count": 62,
      "outputs": [
        {
          "output_type": "stream",
          "name": "stdout",
          "text": [
            "11\n"
          ]
        }
      ]
    },
    {
      "cell_type": "markdown",
      "source": [
        "**3. Write a code to slice the first 3 characters from the string \"Python Programming\".**"
      ],
      "metadata": {
        "id": "Jdq3unipfLjl"
      }
    },
    {
      "cell_type": "code",
      "source": [
        "x = \"Python Programming\"\n",
        "x[0:3]"
      ],
      "metadata": {
        "colab": {
          "base_uri": "https://localhost:8080/",
          "height": 35
        },
        "id": "wYR0w6y8fLPn",
        "outputId": "2022cda1-92b6-4d5b-ba46-069601c3db5c"
      },
      "execution_count": 66,
      "outputs": [
        {
          "output_type": "execute_result",
          "data": {
            "text/plain": [
              "'Pyt'"
            ],
            "application/vnd.google.colaboratory.intrinsic+json": {
              "type": "string"
            }
          },
          "metadata": {},
          "execution_count": 66
        }
      ]
    },
    {
      "cell_type": "markdown",
      "source": [
        "**4. Write a code to convert the string \"hello\" to uppercase.**"
      ],
      "metadata": {
        "id": "b_7bp5XHfnzN"
      }
    },
    {
      "cell_type": "code",
      "source": [
        "x = \"hello\"\n",
        "print(x.upper())"
      ],
      "metadata": {
        "colab": {
          "base_uri": "https://localhost:8080/"
        },
        "id": "1sQkHuFbfnmF",
        "outputId": "5738a692-6aca-4750-c24f-54bb489a3433"
      },
      "execution_count": 67,
      "outputs": [
        {
          "output_type": "stream",
          "name": "stdout",
          "text": [
            "HELLO\n"
          ]
        }
      ]
    },
    {
      "cell_type": "markdown",
      "source": [
        "**5. Write a code to replace the word \"apple\" with \"orange\" in the string \"I like apple\"?**"
      ],
      "metadata": {
        "id": "MxdTL5rXf0t1"
      }
    },
    {
      "cell_type": "code",
      "source": [
        "string = \"I like apple\"\n",
        "string.replace(\"apple\",\"orange\")"
      ],
      "metadata": {
        "colab": {
          "base_uri": "https://localhost:8080/",
          "height": 35
        },
        "id": "_KQjCzJXf7Vu",
        "outputId": "2d38154d-2ed2-4391-e73f-bccf6b37ec37"
      },
      "execution_count": 69,
      "outputs": [
        {
          "output_type": "execute_result",
          "data": {
            "text/plain": [
              "'I like orange'"
            ],
            "application/vnd.google.colaboratory.intrinsic+json": {
              "type": "string"
            }
          },
          "metadata": {},
          "execution_count": 69
        }
      ]
    },
    {
      "cell_type": "markdown",
      "source": [
        "**6. Write a code to create a list with numbers 1 to 5 and print it?**\n"
      ],
      "metadata": {
        "id": "9q1zoSlagEIB"
      }
    },
    {
      "cell_type": "code",
      "source": [
        "list = [i for i in range(1,6)]\n",
        "print(list)"
      ],
      "metadata": {
        "colab": {
          "base_uri": "https://localhost:8080/"
        },
        "id": "oJB5-vAifmVD",
        "outputId": "913be264-e7d8-42dd-9ada-5f6ea2aa45e5"
      },
      "execution_count": 73,
      "outputs": [
        {
          "output_type": "stream",
          "name": "stdout",
          "text": [
            "[1, 2, 3, 4, 5]\n"
          ]
        }
      ]
    },
    {
      "cell_type": "markdown",
      "source": [
        "**7. Write a code to append the number 10 to the list [1, 2, 3, 4]?**"
      ],
      "metadata": {
        "id": "OlBpiAIxgkZy"
      }
    },
    {
      "cell_type": "code",
      "source": [
        "list = [1,2,3,4]\n",
        "list.append(10)\n",
        "print(list)"
      ],
      "metadata": {
        "colab": {
          "base_uri": "https://localhost:8080/"
        },
        "id": "fi9N5N6BgqDp",
        "outputId": "e940e86a-19e7-4c50-e87e-ea0396aaa512"
      },
      "execution_count": 74,
      "outputs": [
        {
          "output_type": "stream",
          "name": "stdout",
          "text": [
            "[1, 2, 3, 4, 10]\n"
          ]
        }
      ]
    },
    {
      "cell_type": "markdown",
      "source": [
        "**8. Write a code to remove the number 3 from the list [1, 2, 3, 4, 5]**"
      ],
      "metadata": {
        "id": "j738szvbgzMD"
      }
    },
    {
      "cell_type": "code",
      "source": [
        "list = [1,2,3,4,5]\n",
        "list.remove(3)\n",
        "print(list)"
      ],
      "metadata": {
        "colab": {
          "base_uri": "https://localhost:8080/"
        },
        "id": "-gTK8vDJgwx6",
        "outputId": "825b4f38-8bd7-44fd-d4fc-be49ad61323a"
      },
      "execution_count": 75,
      "outputs": [
        {
          "output_type": "stream",
          "name": "stdout",
          "text": [
            "[1, 2, 4, 5]\n"
          ]
        }
      ]
    },
    {
      "cell_type": "markdown",
      "source": [
        "**9. Write a code to access the second element in the list ['a', 'b', 'c', 'd']?**"
      ],
      "metadata": {
        "id": "4Ik7cpAafmNN"
      }
    },
    {
      "cell_type": "code",
      "source": [
        "list = ['a','b','c','d']\n",
        "list[1]"
      ],
      "metadata": {
        "colab": {
          "base_uri": "https://localhost:8080/",
          "height": 35
        },
        "id": "yv1RouPyhG-_",
        "outputId": "acc16b0d-790d-43fa-d84c-ea433ab763d0"
      },
      "execution_count": 76,
      "outputs": [
        {
          "output_type": "execute_result",
          "data": {
            "text/plain": [
              "'b'"
            ],
            "application/vnd.google.colaboratory.intrinsic+json": {
              "type": "string"
            }
          },
          "metadata": {},
          "execution_count": 76
        }
      ]
    },
    {
      "cell_type": "markdown",
      "source": [
        "**10. Write a code to reverse the list [10, 20, 30, 40, 50].**"
      ],
      "metadata": {
        "id": "SICVbqgohRsw"
      }
    },
    {
      "cell_type": "code",
      "source": [
        "list = [10,20,30,40,50]\n",
        "list.reverse()\n",
        "print(list)\n"
      ],
      "metadata": {
        "colab": {
          "base_uri": "https://localhost:8080/"
        },
        "id": "A62myK0yhWsU",
        "outputId": "020a8063-c29a-445f-81b0-6731bc8e3d27"
      },
      "execution_count": 86,
      "outputs": [
        {
          "output_type": "stream",
          "name": "stdout",
          "text": [
            "[50, 40, 30, 20, 10]\n"
          ]
        }
      ]
    },
    {
      "cell_type": "markdown",
      "source": [
        "**11. Write a code to create a tuple with the elements 100, 200, 300 and print it.**"
      ],
      "metadata": {
        "id": "vzeakmuInni6"
      }
    },
    {
      "cell_type": "code",
      "source": [
        "tuple = tuple(i*100 for i in range(1,4))\n",
        "tuple"
      ],
      "metadata": {
        "colab": {
          "base_uri": "https://localhost:8080/"
        },
        "id": "bYRg-l7TnrnU",
        "outputId": "bb9fdf0f-3995-46e8-99ec-724fb0d7661e"
      },
      "execution_count": 102,
      "outputs": [
        {
          "output_type": "execute_result",
          "data": {
            "text/plain": [
              "(100, 200, 300)"
            ]
          },
          "metadata": {},
          "execution_count": 102
        }
      ]
    },
    {
      "cell_type": "markdown",
      "source": [
        "**12. Write a code to access the second-to-last element of the tuple ('red', 'green', 'blue', 'yellow').**"
      ],
      "metadata": {
        "id": "7pU4M8CKofTJ"
      }
    },
    {
      "cell_type": "code",
      "source": [
        "x = ('red','green','blue','yellow')\n",
        "print(x[-2])"
      ],
      "metadata": {
        "colab": {
          "base_uri": "https://localhost:8080/"
        },
        "id": "GMmHs9L7oDAc",
        "outputId": "52d0721e-bf26-4b9b-f08d-5d82f6e4a4fc"
      },
      "execution_count": 104,
      "outputs": [
        {
          "output_type": "stream",
          "name": "stdout",
          "text": [
            "blue\n"
          ]
        }
      ]
    },
    {
      "cell_type": "markdown",
      "source": [
        "**13. Write a code to find the minimum number in the tuple (10, 20, 5, 15)**"
      ],
      "metadata": {
        "id": "7PmptrC4o0V5"
      }
    },
    {
      "cell_type": "code",
      "source": [
        "x = (10,20,5,15)\n",
        "print(min(x))"
      ],
      "metadata": {
        "colab": {
          "base_uri": "https://localhost:8080/"
        },
        "id": "jJa7tuJCo20n",
        "outputId": "7776723e-b658-4008-f6fb-385207e4eddf"
      },
      "execution_count": 107,
      "outputs": [
        {
          "output_type": "stream",
          "name": "stdout",
          "text": [
            "5\n"
          ]
        }
      ]
    },
    {
      "cell_type": "markdown",
      "source": [
        "**14. Write a code to find the index of the element \"cat\" in the tuple ('dog', 'cat', 'rabbit').**"
      ],
      "metadata": {
        "id": "a0uLv4lepNFl"
      }
    },
    {
      "cell_type": "code",
      "source": [
        "a = ('dog','cat','rabbit')\n",
        "a.index('cat')"
      ],
      "metadata": {
        "colab": {
          "base_uri": "https://localhost:8080/"
        },
        "id": "n-4CxljupQ8E",
        "outputId": "a23fda3c-fad6-40c2-a88c-1d6fca2b670d"
      },
      "execution_count": 108,
      "outputs": [
        {
          "output_type": "execute_result",
          "data": {
            "text/plain": [
              "1"
            ]
          },
          "metadata": {},
          "execution_count": 108
        }
      ]
    },
    {
      "cell_type": "markdown",
      "source": [
        "**15. Write a code to create a tuple containing three different fruits and check if \"kiwi\" is in it.**"
      ],
      "metadata": {
        "id": "bYD7gNKTpaEK"
      }
    },
    {
      "cell_type": "code",
      "source": [
        "b = (\"apple\",\"banana\",\"kiwi\")\n",
        "\"kiwi\" in b"
      ],
      "metadata": {
        "colab": {
          "base_uri": "https://localhost:8080/"
        },
        "id": "lzT036bZpdN4",
        "outputId": "f401caf7-22e3-4712-c5c8-05b0eb0ce5d2"
      },
      "execution_count": 109,
      "outputs": [
        {
          "output_type": "execute_result",
          "data": {
            "text/plain": [
              "True"
            ]
          },
          "metadata": {},
          "execution_count": 109
        }
      ]
    },
    {
      "cell_type": "markdown",
      "source": [
        "**16. Write a code to create a set with the elements 'a', 'b', 'c' and print it.**"
      ],
      "metadata": {
        "id": "k9MI4Cd1phwe"
      }
    },
    {
      "cell_type": "code",
      "source": [
        "x = {\"a\",\"b\",\"c\"}\n",
        "print(x)"
      ],
      "metadata": {
        "colab": {
          "base_uri": "https://localhost:8080/"
        },
        "id": "aQj6dEIcpleC",
        "outputId": "1f19ad8c-d9ee-4992-d4d6-c29717221fd9"
      },
      "execution_count": 110,
      "outputs": [
        {
          "output_type": "stream",
          "name": "stdout",
          "text": [
            "{'c', 'b', 'a'}\n"
          ]
        }
      ]
    },
    {
      "cell_type": "markdown",
      "source": [
        "**17. Write a code to clear all elements from the set {1, 2, 3, 4, 5}.**"
      ],
      "metadata": {
        "id": "P7HU8shCpqwd"
      }
    },
    {
      "cell_type": "code",
      "source": [
        "set = {1,2,3,4,5}\n",
        "set.clear()\n",
        "print(set)"
      ],
      "metadata": {
        "colab": {
          "base_uri": "https://localhost:8080/"
        },
        "id": "1OHTqMT9pt0h",
        "outputId": "62fe0e71-544b-437b-c9e2-967b84123bf1"
      },
      "execution_count": 111,
      "outputs": [
        {
          "output_type": "stream",
          "name": "stdout",
          "text": [
            "set()\n"
          ]
        }
      ]
    },
    {
      "cell_type": "markdown",
      "source": [
        "**18. Write a code to remove the element 4 from the set {1, 2, 3, 4}.**"
      ],
      "metadata": {
        "id": "_MlYCu_WpyAZ"
      }
    },
    {
      "cell_type": "code",
      "source": [
        "set = {1,2,3,4}\n",
        "set.remove(4)\n",
        "print(set)"
      ],
      "metadata": {
        "colab": {
          "base_uri": "https://localhost:8080/"
        },
        "id": "cZh2KyD7pxcj",
        "outputId": "f2f0f09d-60d1-418e-8551-da57e3085b09"
      },
      "execution_count": 112,
      "outputs": [
        {
          "output_type": "stream",
          "name": "stdout",
          "text": [
            "{1, 2, 3}\n"
          ]
        }
      ]
    },
    {
      "cell_type": "markdown",
      "source": [
        "**19. Write a code to find the union of two sets {1, 2, 3} and {3, 4, 5}.**"
      ],
      "metadata": {
        "id": "8HJgNzpEpxUI"
      }
    },
    {
      "cell_type": "code",
      "source": [
        "x = {1,2,3}\n",
        "y = {3,4,5}\n",
        "print(x|y)"
      ],
      "metadata": {
        "colab": {
          "base_uri": "https://localhost:8080/"
        },
        "id": "HV1EBOP6qBZy",
        "outputId": "885c5173-b94b-4f5f-9386-680969d0a15e"
      },
      "execution_count": 115,
      "outputs": [
        {
          "output_type": "stream",
          "name": "stdout",
          "text": [
            "{1, 2, 3, 4, 5}\n"
          ]
        }
      ]
    },
    {
      "cell_type": "markdown",
      "source": [
        "**20. Write a code to find the intersection of two sets {1, 2, 3} and {2, 3, 4}.**"
      ],
      "metadata": {
        "id": "6g49_WuWqZwP"
      }
    },
    {
      "cell_type": "code",
      "source": [
        "x = {1,2,3}\n",
        "y = {2,3,4}\n",
        "print(x&y)"
      ],
      "metadata": {
        "colab": {
          "base_uri": "https://localhost:8080/"
        },
        "id": "40osucqAqgrl",
        "outputId": "22409a91-5140-4e15-cd59-08937dc98dc0"
      },
      "execution_count": 116,
      "outputs": [
        {
          "output_type": "stream",
          "name": "stdout",
          "text": [
            "{2, 3}\n"
          ]
        }
      ]
    },
    {
      "cell_type": "markdown",
      "source": [
        "**21. Write a code to create a dictionary with the keys \"name\", \"age\", and \"city\", and print it**"
      ],
      "metadata": {
        "id": "xb0fbFd4qlRo"
      }
    },
    {
      "cell_type": "code",
      "source": [
        "dict = {\"name\":\"Gaurav\",\"age\":18,\"city\":\"Rohtak\"}\n",
        "print(dict)"
      ],
      "metadata": {
        "colab": {
          "base_uri": "https://localhost:8080/"
        },
        "id": "4KD_3jROqpu-",
        "outputId": "b94b3911-88ff-473e-ddbf-5896a96149cb"
      },
      "execution_count": 117,
      "outputs": [
        {
          "output_type": "stream",
          "name": "stdout",
          "text": [
            "{'name': 'Gaurav', 'age': 18, 'city': 'Rohtak'}\n"
          ]
        }
      ]
    },
    {
      "cell_type": "markdown",
      "source": [
        "**22. Write a code to add a new key-value pair \"country\": \"USA\" to the dictionary {'name': 'John', 'age': 25}.**"
      ],
      "metadata": {
        "id": "CZMB7-7Wqw36"
      }
    },
    {
      "cell_type": "code",
      "source": [
        "dict = {'name': 'John', 'age': 25}\n",
        "dict[\"country\"] = \"USA\"\n",
        "print(dict)"
      ],
      "metadata": {
        "colab": {
          "base_uri": "https://localhost:8080/"
        },
        "id": "G91dPs9-q4nA",
        "outputId": "c1d94ddc-7485-4dbd-f9ff-412aae117d24"
      },
      "execution_count": 121,
      "outputs": [
        {
          "output_type": "stream",
          "name": "stdout",
          "text": [
            "{'name': 'John', 'age': 25, 'country': 'USA'}\n"
          ]
        }
      ]
    },
    {
      "cell_type": "markdown",
      "source": [
        "**23. Write a code to access the value associated with the key \"name\" in the dictionary {'name': 'Alice', 'age': 30}.**"
      ],
      "metadata": {
        "id": "34N7AHBHrBW8"
      }
    },
    {
      "cell_type": "code",
      "source": [
        "dict = {'name': 'Alice', 'age': 30}\n",
        "dict[\"name\"]"
      ],
      "metadata": {
        "colab": {
          "base_uri": "https://localhost:8080/",
          "height": 35
        },
        "id": "rjzWNUNvrFSw",
        "outputId": "9be8f0c1-dee8-4dbf-9863-023e8b92ad02"
      },
      "execution_count": 123,
      "outputs": [
        {
          "output_type": "execute_result",
          "data": {
            "text/plain": [
              "'Alice'"
            ],
            "application/vnd.google.colaboratory.intrinsic+json": {
              "type": "string"
            }
          },
          "metadata": {},
          "execution_count": 123
        }
      ]
    },
    {
      "cell_type": "markdown",
      "source": [
        "**24. Write a code to remove the key \"age\" from the dictionary {'name': 'Bob', 'age': 22, 'city': 'New York'}.**"
      ],
      "metadata": {
        "id": "oRdUVqCtrMJL"
      }
    },
    {
      "cell_type": "code",
      "source": [
        "dict = {'name': 'Bob', 'age': 22, 'city': 'New York'}\n",
        "dict.pop(\"age\")\n",
        "dict"
      ],
      "metadata": {
        "colab": {
          "base_uri": "https://localhost:8080/"
        },
        "id": "PEJCOyQYrL89",
        "outputId": "3f751748-ab63-42c5-87bf-18f33aac3338"
      },
      "execution_count": 125,
      "outputs": [
        {
          "output_type": "execute_result",
          "data": {
            "text/plain": [
              "{'name': 'Bob', 'city': 'New York'}"
            ]
          },
          "metadata": {},
          "execution_count": 125
        }
      ]
    },
    {
      "cell_type": "markdown",
      "source": [
        "**25. Write a code to check if the key \"city\" exists in the dictionary {'name': 'Alice', 'city': 'Paris'}.**"
      ],
      "metadata": {
        "id": "GtE_g5wCrYRh"
      }
    },
    {
      "cell_type": "code",
      "source": [
        "dict = {'name': 'Alice', 'city': 'Paris'}\n",
        "\"city\" in dict"
      ],
      "metadata": {
        "colab": {
          "base_uri": "https://localhost:8080/"
        },
        "id": "zixRz7O5rcKm",
        "outputId": "647042ec-72e2-42ef-cce7-659d49203fa6"
      },
      "execution_count": 126,
      "outputs": [
        {
          "output_type": "execute_result",
          "data": {
            "text/plain": [
              "True"
            ]
          },
          "metadata": {},
          "execution_count": 126
        }
      ]
    },
    {
      "cell_type": "markdown",
      "source": [
        "**26. Write a code to create a list, a tuple, and a dictionary, and print them all.**"
      ],
      "metadata": {
        "id": "IZjiqZ8-rfg8"
      }
    },
    {
      "cell_type": "code",
      "source": [
        "list = [1,2,3,4]\n",
        "tuple = (1,2,3,4)\n",
        "dict = {\"name\":\"Gaurav\",\"age\":18}\n",
        "print(list,tuple,dict)"
      ],
      "metadata": {
        "colab": {
          "base_uri": "https://localhost:8080/"
        },
        "id": "s1TXDTGzrjPX",
        "outputId": "61814047-1cdd-48d6-8478-c6ef7651a0ab"
      },
      "execution_count": 128,
      "outputs": [
        {
          "output_type": "stream",
          "name": "stdout",
          "text": [
            "[1, 2, 3, 4] (1, 2, 3, 4) {'name': 'Gaurav', 'age': 18}\n"
          ]
        }
      ]
    },
    {
      "cell_type": "markdown",
      "source": [
        "**27. Write a code to create a list of 5 random numbers between 1 and 100, sort it in ascending order, and print the\n",
        "result.(replaced)**"
      ],
      "metadata": {
        "id": "kV6ObtsDrsKU"
      }
    },
    {
      "cell_type": "code",
      "source": [
        "import random\n",
        "q = [random.randint(1,100) for i in range(5)]\n",
        "q.sort()\n",
        "print(q)\n"
      ],
      "metadata": {
        "colab": {
          "base_uri": "https://localhost:8080/"
        },
        "id": "nKSgSKEUrsCQ",
        "outputId": "06fa7388-7621-480b-fa88-84031a4d7a1b"
      },
      "execution_count": 244,
      "outputs": [
        {
          "output_type": "stream",
          "name": "stdout",
          "text": [
            "[6, 7, 10, 67, 71]\n"
          ]
        }
      ]
    },
    {
      "cell_type": "markdown",
      "source": [
        "**28. Write a code to create a list with strings and print the element at the third index.**"
      ],
      "metadata": {
        "id": "yW9NGDOAu-BI"
      }
    },
    {
      "cell_type": "code",
      "source": [
        "list = [\"GAURAV\",\"AJAY\",\"AMIT\",\"MOHIT\"]\n",
        "list[2]"
      ],
      "metadata": {
        "colab": {
          "base_uri": "https://localhost:8080/",
          "height": 35
        },
        "id": "uiWLL_GjvCV3",
        "outputId": "96994937-3b0f-4274-b3f3-a6b3a5d6e108"
      },
      "execution_count": 245,
      "outputs": [
        {
          "output_type": "execute_result",
          "data": {
            "text/plain": [
              "'AMIT'"
            ],
            "application/vnd.google.colaboratory.intrinsic+json": {
              "type": "string"
            }
          },
          "metadata": {},
          "execution_count": 245
        }
      ]
    },
    {
      "cell_type": "markdown",
      "source": [
        "**29. Write a code to combine two dictionaries into one and print the result.**"
      ],
      "metadata": {
        "id": "Kr_Ex8TovcfX"
      }
    },
    {
      "cell_type": "code",
      "source": [
        "dict1 = {\"name\":\"Gaurav\",\"age\":18}\n",
        "dict2 = {\"city\":\"Rohtak\",\"state\":\"Haryana\"}\n",
        "dict1.update(dict2)\n",
        "print(dict1)\n"
      ],
      "metadata": {
        "colab": {
          "base_uri": "https://localhost:8080/"
        },
        "id": "7X9HKXwhvbvi",
        "outputId": "1d400699-6b18-4e87-c99a-8852d7916fb4"
      },
      "execution_count": 246,
      "outputs": [
        {
          "output_type": "stream",
          "name": "stdout",
          "text": [
            "{'name': 'Gaurav', 'age': 18, 'city': 'Rohtak', 'state': 'Haryana'}\n"
          ]
        }
      ]
    },
    {
      "cell_type": "markdown",
      "source": [
        "**30. Write a code to convert a list of strings into a set.**"
      ],
      "metadata": {
        "id": "RqXB8qiNvjNG"
      }
    },
    {
      "cell_type": "code",
      "source": [
        "del set\n",
        "list = [\"gaurav\",\"hello\",\"rohtak\",\"haryana\"]\n",
        "list = set(list)\n",
        "print(list)"
      ],
      "metadata": {
        "colab": {
          "base_uri": "https://localhost:8080/"
        },
        "id": "bPf4zE35vnRg",
        "outputId": "382e0851-26a4-4406-e7a3-2ee42000b578"
      },
      "execution_count": 248,
      "outputs": [
        {
          "output_type": "stream",
          "name": "stdout",
          "text": [
            "{'haryana', 'gaurav', 'rohtak', 'hello'}\n"
          ]
        }
      ]
    },
    {
      "cell_type": "markdown",
      "source": [
        "### ***THANK YOU SOO MUCH,***\n",
        "For spending your valuable time here,\n",
        "HAVE A GOOD DAY"
      ],
      "metadata": {
        "id": "QlZcrOt8v2TP"
      }
    }
  ]
}